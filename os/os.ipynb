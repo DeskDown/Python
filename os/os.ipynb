{
 "metadata": {
  "language_info": {
   "codemirror_mode": {
    "name": "ipython",
    "version": 3
   },
   "file_extension": ".py",
   "mimetype": "text/x-python",
   "name": "python",
   "nbconvert_exporter": "python",
   "pygments_lexer": "ipython3",
   "version": "3.8.3-final"
  },
  "orig_nbformat": 2,
  "kernelspec": {
   "name": "python_defaultSpec_1597849837471",
   "display_name": "Python 3.8.3 32-bit"
  }
 },
 "nbformat": 4,
 "nbformat_minor": 2,
 "cells": [
  {
   "cell_type": "code",
   "execution_count": null,
   "metadata": {
    "tags": []
   },
   "outputs": [],
   "source": [
    "import os\n",
    "# get current working directory\n",
    "cwd = os.getcwd()\n",
    "print(cwd)"
   ]
  },
  {
   "cell_type": "code",
   "execution_count": null,
   "metadata": {
    "tags": []
   },
   "outputs": [],
   "source": [
    "dest = r\"c:\\_inam\"\n",
    "os.chdir(dest)\n",
    "\n",
    "print(os.getcwd())"
   ]
  },
  {
   "cell_type": "code",
   "execution_count": null,
   "metadata": {},
   "outputs": [],
   "source": [
    "os.listdir()"
   ]
  },
  {
   "cell_type": "code",
   "execution_count": null,
   "metadata": {},
   "outputs": [],
   "source": [
    "os.mkdir(\"NewFolder\")"
   ]
  },
  {
   "cell_type": "code",
   "execution_count": null,
   "metadata": {},
   "outputs": [],
   "source": [
    "os.listdir()"
   ]
  },
  {
   "cell_type": "code",
   "execution_count": null,
   "metadata": {},
   "outputs": [],
   "source": [
    "os.rmdir(\"NewFolder\")"
   ]
  },
  {
   "cell_type": "code",
   "execution_count": null,
   "metadata": {},
   "outputs": [],
   "source": [
    "os.listdir()"
   ]
  },
  {
   "cell_type": "code",
   "execution_count": null,
   "metadata": {},
   "outputs": [],
   "source": [
    "os.makedirs('Top\\Middle\\Last')"
   ]
  },
  {
   "cell_type": "code",
   "execution_count": null,
   "metadata": {},
   "outputs": [],
   "source": [
    "os.listdir()"
   ]
  },
  {
   "cell_type": "code",
   "execution_count": null,
   "metadata": {
    "tags": []
   },
   "outputs": [],
   "source": [
    "# path, dirs list, files list - Top Down\n",
    "for p,d,f in os.walk(\"Top\"):\n",
    "    print(p, d, f)"
   ]
  },
  {
   "cell_type": "code",
   "execution_count": null,
   "metadata": {
    "tags": []
   },
   "outputs": [],
   "source": [
    "# path, dirs list, files list - Down Top\n",
    "for p,d,f in os.walk(\"Top\", topdown= False):\n",
    "    print(p, d, f)"
   ]
  },
  {
   "cell_type": "code",
   "execution_count": null,
   "metadata": {},
   "outputs": [],
   "source": [
    "os.rmdir(\"Top\")"
   ]
  },
  {
   "cell_type": "code",
   "execution_count": null,
   "metadata": {},
   "outputs": [],
   "source": [
    "#either use whole path:\n",
    "os.removedirs(\"Top\\Middle\\Last\")"
   ]
  },
  {
   "cell_type": "code",
   "execution_count": null,
   "metadata": {},
   "outputs": [],
   "source": [
    "#or delete them one by one\n",
    "for p,d,f in os.walk(\"Top\", topdown= False):\n",
    "    os.rmdir(p)"
   ]
  },
  {
   "cell_type": "code",
   "execution_count": null,
   "metadata": {},
   "outputs": [],
   "source": [
    "# delete only the leaf folder\n",
    "os.rmdir(\"Top\\Middle\\Last\")"
   ]
  },
  {
   "cell_type": "code",
   "execution_count": null,
   "metadata": {},
   "outputs": [],
   "source": [
    "os.listdir(\"Top\\Middle\")"
   ]
  },
  {
   "cell_type": "code",
   "execution_count": 33,
   "metadata": {},
   "outputs": [],
   "source": [
    "os.rename(\"Top\", \"Head\")"
   ]
  },
  {
   "cell_type": "code",
   "execution_count": 34,
   "metadata": {},
   "outputs": [
    {
     "output_type": "execute_result",
     "data": {
      "text/plain": "['ArchiveMail.pst',\n 'Desktop',\n 'Documents',\n 'Downloads',\n 'Head',\n 'in_size.txt',\n 'lotti',\n 'Master-2k.xlsx']"
     },
     "metadata": {},
     "execution_count": 34
    }
   ],
   "source": [
    "os.listdir()"
   ]
  },
  {
   "cell_type": "code",
   "execution_count": 35,
   "metadata": {},
   "outputs": [
    {
     "output_type": "execute_result",
     "data": {
      "text/plain": "os.stat_result(st_mode=16895, st_ino=7036874417905488, st_dev=4128336579, st_nlink=1, st_uid=0, st_gid=0, st_size=0, st_atime=1597850726, st_mtime=1597850726, st_ctime=1597850726)"
     },
     "metadata": {},
     "execution_count": 35
    }
   ],
   "source": [
    "os.stat(\"Head\")"
   ]
  },
  {
   "cell_type": "markdown",
   "metadata": {},
   "source": [
    "- st_mode: It represents file type and file mode bits (permissions).\n",
    "- st_ino: It represents the inode number on Unix and the file index on Windows platform.\n",
    "- st_dev: It represents the identifier of the device on which this file resides.\n",
    "- st_nlink: It represents the number of hard links.\n",
    "- st_uid: It represents the user identifier of the file owner.\n",
    "- st_gid: It represents the group identifier of the file owner.\n",
    "- st_size: It represents the size of the file in bytes.\n",
    "- st_atime: It represents the time of most recent access. It is expressed in seconds.\n",
    "- st_mtime: It represents the time of most recent content modification. It is expressed in seconds.\n",
    "- st_ctime: It represents the time of most recent metadata change on Unix and creation time on Windows. It is expressed in seconds.\n",
    "- st_atime_ns: It is same as st_atime but the time is expressed in nanoseconds as an integer.\n",
    "- st_mtime_ns: It is same as st_mtime but the time is expressed in nanoseconds as an integer.\n",
    "- st_ctime_ns: It is same as st_ctime but the time is expressed in nanoseconds as an integer.\n",
    "- st_blocks: It represents the number of 512-byte blocks allocated for file.\n",
    "- st_rdev: It represents the type of device, if an inode device.\n",
    "- st_flags: It represents the user defined flags for file."
   ]
  },
  {
   "cell_type": "code",
   "execution_count": 38,
   "metadata": {},
   "outputs": [
    {
     "output_type": "execute_result",
     "data": {
      "text/plain": "28"
     },
     "metadata": {},
     "execution_count": 38
    }
   ],
   "source": [
    "os.path.getsize(\"in_size.txt\")"
   ]
  },
  {
   "cell_type": "code",
   "execution_count": 56,
   "metadata": {
    "tags": []
   },
   "outputs": [
    {
     "output_type": "stream",
     "name": "stdout",
     "text": "D:\\a\\v\\j\\new.txt D:\\a\\v\\j\\new.txt\n"
    }
   ],
   "source": [
    "#join two paths\n",
    "p1 = os.path.join(\"D:\\\\a\\\\v\\\\j\", \"new.txt\")\n",
    "p2 = os.path.join(r\"D:\\a\\v\\j\", \"new.txt\")\n",
    "\n",
    "print(p1, p2)"
   ]
  },
  {
   "cell_type": "markdown",
   "metadata": {},
   "source": [
    "* get leaf name"
   ]
  },
  {
   "cell_type": "code",
   "execution_count": 63,
   "metadata": {
    "tags": []
   },
   "outputs": [
    {
     "output_type": "stream",
     "name": "stdout",
     "text": "file\n"
    }
   ],
   "source": [
    "bn = os.path.basename(r\"c\\along\\path\\file.name\")\n",
    "\n",
    "print(bn)"
   ]
  },
  {
   "cell_type": "markdown",
   "metadata": {},
   "source": [
    "* get parent name"
   ]
  },
  {
   "cell_type": "code",
   "execution_count": 62,
   "metadata": {
    "tags": []
   },
   "outputs": [
    {
     "output_type": "stream",
     "name": "stdout",
     "text": "New\\File\\is\n"
    }
   ],
   "source": [
    "dn = os.path.dirname(r\"New\\File\\is\\StoredHere\")\n",
    "\n",
    "print(dn)"
   ]
  },
  {
   "cell_type": "code",
   "execution_count": 69,
   "metadata": {
    "tags": []
   },
   "outputs": [
    {
     "output_type": "stream",
     "name": "stdout",
     "text": "a\\b, c\n"
    }
   ],
   "source": [
    "dn, bn = os.path.split(r\"a\\b\\c\")\n",
    "\n",
    "print(dn, bn , sep= \", \")"
   ]
  },
  {
   "cell_type": "code",
   "execution_count": 70,
   "metadata": {},
   "outputs": [
    {
     "output_type": "execute_result",
     "data": {
      "text/plain": "False"
     },
     "metadata": {},
     "execution_count": 70
    }
   ],
   "source": [
    "os.path.exists(\"a\\b\")"
   ]
  },
  {
   "cell_type": "code",
   "execution_count": 71,
   "metadata": {},
   "outputs": [
    {
     "output_type": "execute_result",
     "data": {
      "text/plain": "True"
     },
     "metadata": {},
     "execution_count": 71
    }
   ],
   "source": [
    "os.path.exists(\"C:\\_inam\\Downloads\")"
   ]
  },
  {
   "cell_type": "code",
   "execution_count": 74,
   "metadata": {},
   "outputs": [
    {
     "output_type": "execute_result",
     "data": {
      "text/plain": "True"
     },
     "metadata": {},
     "execution_count": 74
    }
   ],
   "source": [
    "os.path.exists(\"Downloads\")"
   ]
  },
  {
   "cell_type": "code",
   "execution_count": 73,
   "metadata": {},
   "outputs": [
    {
     "output_type": "execute_result",
     "data": {
      "text/plain": "False"
     },
     "metadata": {},
     "execution_count": 73
    }
   ],
   "source": [
    "os.path.isabs(\".\\Downloads\")"
   ]
  },
  {
   "cell_type": "code",
   "execution_count": 76,
   "metadata": {},
   "outputs": [
    {
     "output_type": "execute_result",
     "data": {
      "text/plain": "True"
     },
     "metadata": {},
     "execution_count": 76
    }
   ],
   "source": [
    "os.path.isabs(\"C:\\_inam\\Downloads\")"
   ]
  },
  {
   "cell_type": "code",
   "execution_count": 77,
   "metadata": {},
   "outputs": [
    {
     "output_type": "execute_result",
     "data": {
      "text/plain": "True"
     },
     "metadata": {},
     "execution_count": 77
    }
   ],
   "source": [
    "os.path.isdir(\"Downloads\")"
   ]
  },
  {
   "cell_type": "code",
   "execution_count": 78,
   "metadata": {},
   "outputs": [
    {
     "output_type": "execute_result",
     "data": {
      "text/plain": "False"
     },
     "metadata": {},
     "execution_count": 78
    }
   ],
   "source": [
    "os.path.isfile(\"Downloads\")"
   ]
  },
  {
   "cell_type": "code",
   "execution_count": 79,
   "metadata": {},
   "outputs": [
    {
     "output_type": "execute_result",
     "data": {
      "text/plain": "('C:', '\\\\how')"
     },
     "metadata": {},
     "execution_count": 79
    }
   ],
   "source": [
    "os.path.splitdrive(\"C:\\how\")"
   ]
  },
  {
   "cell_type": "code",
   "execution_count": 83,
   "metadata": {},
   "outputs": [
    {
     "output_type": "execute_result",
     "data": {
      "text/plain": "('C:\\\\good', '.txt')"
     },
     "metadata": {},
     "execution_count": 83
    }
   ],
   "source": [
    "os.path.splitext(\"C:\\good.txt\")"
   ]
  },
  {
   "cell_type": "code",
   "execution_count": 84,
   "metadata": {},
   "outputs": [
    {
     "output_type": "execute_result",
     "data": {
      "text/plain": "<module 'genericpath' from 'C:\\\\Program Files (x86)\\\\Python38-32\\\\lib\\\\genericpath.py'>"
     },
     "metadata": {},
     "execution_count": 84
    }
   ],
   "source": [
    "os.path.genericpath"
   ]
  },
  {
   "cell_type": "code",
   "execution_count": 88,
   "metadata": {},
   "outputs": [
    {
     "output_type": "execute_result",
     "data": {
      "text/plain": "1596722055.167192"
     },
     "metadata": {},
     "execution_count": 88
    }
   ],
   "source": [
    "os.path.getatime(\"in_size.txt\")"
   ]
  },
  {
   "cell_type": "code",
   "execution_count": 92,
   "metadata": {},
   "outputs": [
    {
     "output_type": "execute_result",
     "data": {
      "text/plain": "28"
     },
     "metadata": {},
     "execution_count": 92
    }
   ],
   "source": [
    "# size in bytes\n",
    "\n",
    "os.path.getsize(\"in_size.txt\")"
   ]
  },
  {
   "cell_type": "code",
   "execution_count": null,
   "metadata": {},
   "outputs": [],
   "source": []
  }
 ]
}