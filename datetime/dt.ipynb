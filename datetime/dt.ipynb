{
 "metadata": {
  "language_info": {
   "codemirror_mode": {
    "name": "ipython",
    "version": 3
   },
   "file_extension": ".py",
   "mimetype": "text/x-python",
   "name": "python",
   "nbconvert_exporter": "python",
   "pygments_lexer": "ipython3",
   "version": "3.8.3-final"
  },
  "orig_nbformat": 2,
  "kernelspec": {
   "name": "python_defaultSpec_1597852714911",
   "display_name": "Python 3.8.3 32-bit"
  }
 },
 "nbformat": 4,
 "nbformat_minor": 2,
 "cells": [
  {
   "cell_type": "code",
   "execution_count": null,
   "metadata": {
    "tags": []
   },
   "outputs": [],
   "source": [
    "import datetime as dt\n",
    "\n",
    "t = dt.date.today()\n",
    "\n",
    "print(t)\n",
    "print(t.day, t.month, t.year)\n",
    "\n",
    "print(t.isoweekday()) # 1 - 7\n",
    "print(t.weekday()) # 0 - 6\n",
    "\n"
   ]
  },
  {
   "cell_type": "code",
   "execution_count": null,
   "metadata": {
    "tags": []
   },
   "outputs": [],
   "source": [
    "td = dt.timedelta(7)\n",
    "\n",
    "print(t + td)\n",
    "print(t - td)\n",
    "\n"
   ]
  },
  {
   "cell_type": "code",
   "execution_count": null,
   "metadata": {
    "tags": []
   },
   "outputs": [],
   "source": [
    "y = dt.date(2020, 8, 18)\n",
    "d = t - y\n",
    "print(t > y)\n",
    "print(d)\n",
    "print(y - t)\n",
    "print(d.days)\n",
    "print(d.total_seconds())\n",
    "\n"
   ]
  },
  {
   "cell_type": "code",
   "execution_count": null,
   "metadata": {
    "tags": []
   },
   "outputs": [],
   "source": [
    "t = dt.time(12, 2, 28, 251244)\n",
    "\n",
    "print(t.hour)\n",
    "print(t.second)\n",
    "print(t.minute)\n",
    "print(t.microsecond)"
   ]
  },
  {
   "cell_type": "code",
   "execution_count": null,
   "metadata": {
    "tags": []
   },
   "outputs": [],
   "source": [
    "t = dt.datetime.now()\n",
    "\n",
    "print(t)\n",
    "print(t.day, t.month, t.year)\n",
    "print(t.isoweekday()) # 1 - 7\n",
    "print(t.weekday()) # 0 - 6\n",
    "print(t.hour)\n",
    "print(t.second)\n",
    "print(t.minute)\n",
    "print(t.microsecond)"
   ]
  },
  {
   "cell_type": "code",
   "execution_count": null,
   "metadata": {
    "tags": []
   },
   "outputs": [],
   "source": [
    "td = dt.timedelta(days= 3, hours= 9, minutes= 7)\n",
    "\n",
    "nt = t + td\n",
    "\n",
    "print(nt, nt > t)"
   ]
  },
  {
   "cell_type": "code",
   "execution_count": null,
   "metadata": {
    "tags": []
   },
   "outputs": [],
   "source": [
    "today = dt.datetime.today()\n",
    "now = dt.datetime.now()\n",
    "utc = dt.datetime.utcnow()\n",
    "print(today, now, utc,  sep= \"\\n\")"
   ]
  },
  {
   "cell_type": "code",
   "execution_count": null,
   "metadata": {
    "tags": []
   },
   "outputs": [],
   "source": [
    "import pytz\n",
    "\n",
    "t  = dt.datetime(2020,8,19,20,22,55, tzinfo=pytz.utc)\n",
    "print(t)"
   ]
  },
  {
   "cell_type": "code",
   "execution_count": null,
   "metadata": {
    "tags": []
   },
   "outputs": [],
   "source": [
    "utc_now = dt.datetime.now(tz= pytz.utc)\n",
    "italian_time = utc_now.astimezone(pytz.timezone(\"Europe/Rome\"))\n",
    "print(utc_now)\n",
    "print(italian_time)"
   ]
  },
  {
   "cell_type": "code",
   "execution_count": null,
   "metadata": {
    "tags": []
   },
   "outputs": [],
   "source": [
    "for tz in pytz.all_timezones:\n",
    "    print(tz)"
   ]
  },
  {
   "cell_type": "markdown",
   "metadata": {},
   "source": [
    "- naive vs aware date and times"
   ]
  },
  {
   "cell_type": "code",
   "execution_count": null,
   "metadata": {
    "tags": []
   },
   "outputs": [],
   "source": [
    "#naive dt\n",
    "print(\"naive dt\")\n",
    "t = dt.datetime.now()\n",
    "print(t)\n",
    "\n",
    "#make it aware\n",
    "#telling it our tz reference, it will show us the differenc wrt UTC\n",
    "print(\"making it aware\")\n",
    "tz = pytz.timezone(\"Europe/Rome\")\n",
    "t_tz = tz.localize(t)\n",
    "#now t equal to dt.datetime.now(tz = pytz.timezone(\"Europe/Rome\"))\n",
    "print(t_tz)\n",
    "\n",
    "#change it to other timezones\n",
    "print(\"changing it to other tz\")\n",
    "t_us = t_tz.astimezone(pytz.timezone(\"US/Alaska\"))\n",
    "\n",
    "print(t_us)\n",
    "\n",
    "#get aware dt\n",
    "print(\"getting already aware tz dt\")\n",
    "t_aware1 = dt.datetime.now(tz= pytz.utc)\n",
    "t_aware2 = dt.datetime.now(tz = pytz.timezone(\"Europe/Rome\"))\n",
    "print(t_aware1)\n",
    "print(t_aware2)\n",
    "\n",
    "#time in Pk\n",
    "print(\"PST:\")\n",
    "pk_time = dt.datetime.now(tz = pytz.timezone(\"Asia/Karachi\"))\n",
    "print(pk_time)\n"
   ]
  },
  {
   "cell_type": "code",
   "execution_count": null,
   "metadata": {
    "tags": []
   },
   "outputs": [],
   "source": [
    "t = dt.datetime.now(tz = pytz.timezone(\"Europe/Rome\"))\n",
    "\n",
    "print(t.isoformat())"
   ]
  },
  {
   "cell_type": "markdown",
   "metadata": {},
   "source": [
    "### convert a datetime to string in differenct formats"
   ]
  },
  {
   "cell_type": "markdown",
   "metadata": {},
   "source": [
    "### strftime() Method<br>\n",
    "- %a\tWeekday as locale’s abbreviated name.\tMon<br>\n",
    "- %A\tWeekday as locale’s full name.\tMonday<br>\n",
    "- %w\tWeekday as a decimal number, where 0 is Sunday and 6 is Saturday.\t1<br>\n",
    "- %d\tDay of the month as a zero-padded decimal number.\t30<br>\n",
    "- %-d\tDay of the month as a decimal number. (Platform specific, use # on windows)\t30<br>\n",
    "- %b\tMonth as locale’s abbreviated name.\tSep<br>\n",
    "- %B\tMonth as locale’s full name.\tSeptember<br>\n",
    "- %m\tMonth as a zero-padded decimal number.\t09<br>\n",
    "- %-m\tMonth as a decimal number. (Platform specific, use # on windows)\t9<br>\n",
    "- %y\tYear without century as a zero-padded decimal number.\t13<br>\n",
    "- %Y\tYear with century as a decimal number.\t2013<br>\n",
    "- %H\tHour (24-hour clock) as a zero-padded decimal number.\t07<br>\n",
    "- %-H\tHour (24-hour clock) as a decimal number. (Platform specific, use # on windows)\t7<br>\n",
    "- %I\tHour (12-hour clock) as a zero-padded decimal number.\t07<br>\n",
    "- %-I\tHour (12-hour clock) as a decimal number. (Platform specific, use # on windows)\t7<br>\n",
    "- %p\tLocale’s equivalent of either AM or PM.\tAM<br>\n",
    "- %M\tMinute as a zero-padded decimal number.\t06<br>\n",
    "- %-M\tMinute as a decimal number. (Platform specific, use # on windows)\t6<br>\n",
    "- %S\tSecond as a zero-padded decimal number.\t05<br>\n",
    "- %-S\tSecond as a decimal number. (Platform specific, use # on windows)\t5<br>\n",
    "- %f\tMicrosecond as a decimal number, zero-padded on the left.\t000000<br>\n",
    "- %z\tUTC offset in the form +HHMM or -HHMM (empty string if the the object is naive).\t<br>\n",
    "- %Z\tTime zone name (empty string if the object is naive).\t<br>\n",
    "- %j\tDay of the year as a zero-padded decimal number.\t273<br>\n",
    "- %-j\tDay of the year as a decimal number. (Platform specific, use # on windows)\t273<br>\n",
    "- %U\tWeek number of the year (Sunday as the first day of the week) as a zero padded decimal number. All days in a new year preceding the first Sunday are considered to be in week 0.\t39<br>\n",
    "- %W\tWeek number of the year (Monday as the first day of the week) as a decimal number. All days in a new year preceding the first Monday are considered to be in week 0.\t39<br>\n",
    "- %c\tLocale’s appropriate date and time representation.\tMon Sep 30 07:06:05 2013<br>\n",
    "- %x\tLocale’s appropriate date representation.\t09/30/13<br>\n",
    "- %X\tLocale’s appropriate time representation.\t07:06:05<br>\n",
    "- %%\tA literal '%' character.\t%<br>"
   ]
  },
  {
   "cell_type": "code",
   "execution_count": null,
   "metadata": {
    "tags": []
   },
   "outputs": [],
   "source": [
    "\n",
    "s = t.strftime(r'%A %B, %Y')\n",
    "s = t.strftime(r'%d_%#m_%y')\n",
    "s = t.strftime(r'%d_%m_%y')\n",
    "\n",
    "print(s)"
   ]
  },
  {
   "cell_type": "markdown",
   "metadata": {},
   "source": [
    "### convert string to datetime object"
   ]
  },
  {
   "cell_type": "code",
   "execution_count": null,
   "metadata": {
    "tags": []
   },
   "outputs": [],
   "source": [
    "s_date = '2020_ 12-07'\n",
    "\n",
    "date = dt.datetime.strptime(s_date, r\"%Y_ %m-%d\")\n",
    "\n",
    "print(date)"
   ]
  },
  {
   "cell_type": "code",
   "execution_count": null,
   "metadata": {},
   "outputs": [],
   "source": []
  }
 ]
}