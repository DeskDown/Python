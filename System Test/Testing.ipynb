{
 "metadata": {
  "language_info": {
   "codemirror_mode": {
    "name": "ipython",
    "version": 3
   },
   "file_extension": ".py",
   "mimetype": "text/x-python",
   "name": "python",
   "nbconvert_exporter": "python",
   "pygments_lexer": "ipython3",
   "version": 3
  },
  "orig_nbformat": 2,
  "kernelspec": {
   "name": "python_defaultSpec_1595946859810",
   "display_name": "Python 3.8.3 32-bit"
  }
 },
 "nbformat": 4,
 "nbformat_minor": 2,
 "cells": [
  {
   "cell_type": "markdown",
   "metadata": {},
   "source": [
    "# System Test"
   ]
  },
  {
   "cell_type": "code",
   "execution_count": 6,
   "metadata": {
    "tags": []
   },
   "outputs": [
    {
     "output_type": "stream",
     "name": "stdout",
     "text": "g in initial state g = 10\ninside the func , g = 10\nnew value. g = 11\nafter fun. g = 11\n"
    }
   ],
   "source": [
    "def check():\n",
    "    #global allow me to change the value on line 6\n",
    "    global g\n",
    "    x, y = 0,1\n",
    "    print(\"inside the func , g = \" + g)\n",
    "    g = str(11)\n",
    "    print(\"new value. g = \"  + g)\n",
    "\n",
    "g = str(10)\n",
    "print(\"g in initial state g = \" + g)\n",
    "check()\n",
    "print(\"after fun. g = \" + g)"
   ]
  },
  {
   "cell_type": "code",
   "execution_count": 3,
   "metadata": {
    "tags": []
   },
   "outputs": [
    {
     "output_type": "stream",
     "name": "stdout",
     "text": "ddI love Paris in the summer!\n"
    }
   ],
   "source": [
    "def f(): \n",
    "    \"\"\"Testing only\n",
    "    when we dont need to change the values of gv\n",
    "    we dont need to specify \"global\" keyword.\n",
    "    \"\"\"\n",
    "\n",
    "    print( \"dd\" + s)\n",
    "s = \"I love Paris in the summer!\"\n",
    "f()\n"
   ]
  },
  {
   "cell_type": "code",
   "execution_count": null,
   "metadata": {},
   "outputs": [],
   "source": []
  }
 ]
}