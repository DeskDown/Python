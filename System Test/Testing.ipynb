{
 "metadata": {
  "language_info": {
   "codemirror_mode": {
    "name": "ipython",
    "version": 3
   },
   "file_extension": ".py",
   "mimetype": "text/x-python",
   "name": "python",
   "nbconvert_exporter": "python",
   "pygments_lexer": "ipython3",
   "version": 3
  },
  "orig_nbformat": 2,
  "kernelspec": {
   "name": "python_defaultSpec_1597061390773",
   "display_name": "Python 3.8.3 32-bit"
  }
 },
 "nbformat": 4,
 "nbformat_minor": 2,
 "cells": [
  {
   "cell_type": "markdown",
   "metadata": {},
   "source": [
    "# System Test"
   ]
  },
  {
   "cell_type": "code",
   "execution_count": null,
   "metadata": {
    "tags": []
   },
   "outputs": [],
   "source": [
    "def check():\n",
    "    #global allow me to change the value on line 6\n",
    "    global g\n",
    "    x, y = 0,1\n",
    "    print(\"inside the func , g = \" + g)\n",
    "    g = str(11)\n",
    "    print(\"new value. g = \"  + g)\n",
    "\n",
    "g = str(10)\n",
    "print(\"g in initial state g = \" + g)\n",
    "check()\n",
    "print(\"after fun. g = \" + g)"
   ]
  },
  {
   "cell_type": "code",
   "execution_count": null,
   "metadata": {
    "tags": []
   },
   "outputs": [],
   "source": [
    "def f(): \n",
    "    \"\"\"Testing only\n",
    "    when we dont need to change the values of gv\n",
    "    we dont need to specify \"global\" keyword.\n",
    "    \"\"\"\n",
    "\n",
    "    print( \"dd\" + s)\n",
    "s = \"I love Paris in the summer!\"\n",
    "f()\n"
   ]
  },
  {
   "cell_type": "code",
   "execution_count": null,
   "metadata": {},
   "outputs": [],
   "source": [
    "num = 901\n",
    "\"Fizz\"*(num%3==0) + \"Buzz\"*(num%5==0) or str(num)"
   ]
  },
  {
   "cell_type": "code",
   "execution_count": null,
   "metadata": {},
   "outputs": [],
   "source": [
    "s1, s2 = \"abc\" , \"adc\"\n",
    "\"\".join([\"0\" if s1[i]!=s2[i] else s1[i] for i in range(len(s1))])"
   ]
  },
  {
   "cell_type": "code",
   "execution_count": null,
   "metadata": {
    "tags": []
   },
   "outputs": [],
   "source": [
    "date = \"11/12/2019\"\n",
    "d = date.split(\"/\")\n",
    "d.reverse()\n",
    "print(d)\n",
    "print([i for i in reversed(date.split(\"/\"))])\n",
    "print(date)\n",
    "d.\n",
    "#\"\".join(date.split(\"/\").reverse())"
   ]
  },
  {
   "cell_type": "code",
   "execution_count": null,
   "metadata": {},
   "outputs": [],
   "source": [
    "22 == 22.000000\n"
   ]
  },
  {
   "cell_type": "code",
   "execution_count": null,
   "metadata": {
    "tags": []
   },
   "outputs": [],
   "source": [
    "def has_friday_13(month, year):\n",
    "\timport datetime as dt\n",
    "\td = dt.date(year, month, 27)\n",
    "\tprint(d.isoweekday())\n",
    "\n",
    "\n",
    "has_friday_13(8,1992)"
   ]
  },
  {
   "cell_type": "code",
   "execution_count": null,
   "metadata": {
    "tags": []
   },
   "outputs": [],
   "source": [
    "def consecutive_combo(lst1, lst2):\n",
    "    lst = lst1 + lst2\n",
    "    a = min(lst)\n",
    "    d = 1\n",
    "    n = len(lst)\n",
    "    print(lst,a,n)\n",
    "    a_sum = n * ( 2*a + (n - 1) * d) / 2\n",
    "    lst_sum = sum(lst)\n",
    "    print(a_sum,lst_sum)\n",
    "    return a_sum == lst_sum\n",
    "\n",
    "\n",
    "consecutive_combo([1, 4, 5, 7], [2, 3, 6])\n",
    "consecutive_combo([1, 4, 5, 6], [2, 7, 8, 9])\n",
    "consecutive_combo([1, 4, 5, 6], [2, 3, 7, 8, 10])\n",
    "consecutive_combo([7, 5, 4, 1], [2, 3, 6, 8])\n",
    "consecutive_combo([33, 34, 40], [39, 38, 37, 36, 35, 32, 31, 30])\n",
    "consecutive_combo([1, 4, 5, 6], [2, 3, 7, 8, 10])\n",
    "consecutive_combo([44, 46], [45])\n",
    "consecutive_combo([4, 3, 1], [2, 5])\n",
    "consecutive_combo([4, 3, 1], [2, 5, 7, 6])\n",
    "consecutive_combo([4, 3, 1], [7, 6, 5])\n",
    "consecutive_combo([4, 3, 1], [0, 7, 6, 5])\n",
    "consecutive_combo([44, 46], [45])"
   ]
  },
  {
   "cell_type": "code",
   "execution_count": null,
   "metadata": {
    "tags": []
   },
   "outputs": [],
   "source": [
    "lst = [[1,2,3],[10,20,30]]\n",
    "\n",
    "x = zip(*lst)\n",
    "\n",
    "print([a for a in x])\n",
    "print(lst)\n"
   ]
  },
  {
   "cell_type": "code",
   "execution_count": null,
   "metadata": {
    "tags": []
   },
   "outputs": [],
   "source": [
    "s = \"Wh*r* d*d my v*w*ls g*?\"\n",
    "\n",
    "r = \"-00\"\n",
    "for c in r:\n",
    "    s = s.replace(\"*\",c,1)\n",
    "    print(c)\n",
    "s"
   ]
  },
  {
   "cell_type": "code",
   "execution_count": null,
   "metadata": {
    "tags": []
   },
   "outputs": [],
   "source": [
    "import re\n",
    "s = \"new si on\"\n",
    "pattern = \"[aeiou] [aeiuo]\"\n",
    "\n",
    "None != re.findall(pattern,s)\n",
    "#print(s)"
   ]
  },
  {
   "cell_type": "code",
   "execution_count": null,
   "metadata": {
    "tags": []
   },
   "outputs": [],
   "source": [
    "import re\n",
    "\n",
    "str = 'Python is a intresting programming languag e isnt it? a    e'\n",
    "#search using regex\n",
    "p = r\"[aeiou] [aeiou]\"\n",
    "x = re.search(p, str)\n",
    "print(\"Match\" if x != None else \"Not Match\")\n",
    "# match searches at the start of the string\n",
    "y = re.match(p,str)\n",
    "print(y)\n",
    "# findall goes over the whole string to find out the result\n",
    "z = re.findall(p,str)\n",
    "print(z)\n"
   ]
  },
  {
   "cell_type": "code",
   "execution_count": null,
   "metadata": {},
   "outputs": [],
   "source": [
    "class ones_threes_nines:\n",
    "\tdef find_9(self,num):\n",
    "\t\treturn num // 9\n",
    "\t\n",
    "\tdef find_3(self,num):\n",
    "\t\treturn (num - self.nines * 9) // 3\n",
    "\t\n",
    "\tdef find_1(self,num):\n",
    "\t\treturn num - self.nines * 9 - self.threes * 3\n",
    "\t\n",
    "\tdef __init__(self,num):\n",
    "\t\tself.nines = self.find_9(num)\n",
    "\t\tself.threes = self.find_3(num)\n",
    "\t\tself.ones = self.find_1(num)\n",
    "\t\tself.answer = f\"nines:{self.nines}, threes:{self.threes}, ones:{self.ones}\"\n",
    "\n",
    "x = ones_threes_nines(1)\n",
    "x.answer"
   ]
  },
  {
   "cell_type": "code",
   "execution_count": null,
   "metadata": {
    "tags": []
   },
   "outputs": [],
   "source": [
    "def majority_vote(lst):\n",
    "    vote = {x:lst.count(x) for x in lst}\n",
    "    print(vote)\n",
    "    for c,v in vote.items():\n",
    "        if v >= (len(lst)//2):\n",
    "            return c\n",
    "    return None\n",
    "\n",
    "majority_vote([2,5,78,5,3,5])"
   ]
  },
  {
   "cell_type": "code",
   "execution_count": null,
   "metadata": {
    "tags": []
   },
   "outputs": [],
   "source": [
    "class player():\n",
    "    \"\"\" \n",
    "    p1 = player(\"David Jones\", 25, 175, 75)\n",
    "    p1.get_age() ➞ \"David Jones is age 25\"\n",
    "    p1.get_height() ➞ \"David Jones is 175cm\"\n",
    "    p1.get_weight() ➞ \"David Jones weighs 75kg\"\n",
    "\n",
    "    \"\"\"\n",
    "\tdef __init__(self, name, age, height, weight):\n",
    "\t# complete function\n",
    "\t\tself.name = name\n",
    "\t\tself.age = age\n",
    "        self.height = height\n",
    "        self.weight = weight\n",
    "        \n",
    "\n",
    "\tdef get_age(self):\t\n",
    "\t# complete function\n",
    "\t\treturn \"{} is age {}\".format(self.name, self.age)\n",
    "\n",
    "\tdef get_height(self):\t\n",
    "\t# complete function\n",
    "\t\treturn \"{} is {}cm\".format(self.name,self.height)\n",
    "\n",
    "\tdef get_weight(self):\t\n",
    "\t# complete function\n",
    "\t\treturn \"{} weighs {}kg\".format(self.name,self.weight)\n",
    "\t\t"
   ]
  },
  {
   "cell_type": "markdown",
   "metadata": {},
   "source": [
    "*Create methods for the Calculator class that can do the following:*\n",
    "\n",
    "- Add two numbers.\n",
    "- Subtract two numbers.\n",
    "- Multiply two numbers.\n",
    "- Divide two numbers.<br>\n",
    "\n",
    "_Examples:_<br>\n",
    "\n",
    "\n",
    "    calculator = Calculator()\n",
    "\n",
    "    calculator.add(10, 5) ➞ 15\n",
    "\n",
    "    calculator.subtract(10, 5) ➞ 5\n",
    "\n",
    "    calculator.multiply(10, 5) ➞ 50\n",
    "\n",
    "    calculator.divide(10, 5) ➞ 2\n"
   ]
  },
  {
   "cell_type": "code",
   "execution_count": null,
   "metadata": {},
   "outputs": [],
   "source": [
    "class Calculator:\n",
    "    def add(a,b):\n",
    "        return a+b\n",
    "\n",
    "    def subtract(a,b):\n",
    "        return a-b\n",
    "\n",
    "    def multiply(a,b):\n",
    "        return a*b\n",
    "    \n",
    "    def divide(a,b):\n",
    "        return a/b"
   ]
  },
  {
   "cell_type": "code",
   "execution_count": 31,
   "metadata": {
    "tags": []
   },
   "outputs": [
    {
     "output_type": "stream",
     "name": "stdout",
     "text": "['0', '7', '8', '9'] ['9', '8', '7', '0']\n"
    },
    {
     "output_type": "execute_result",
     "data": {
      "text/plain": "'7089'"
     },
     "metadata": {},
     "execution_count": 31
    }
   ],
   "source": [
    "s = \"9807\"\n",
    "\n",
    "small = sorted(s)\n",
    "large = small[::-1]\n",
    "\n",
    "print(small, large)\n",
    "s[::-1]\n",
    "\n"
   ]
  },
  {
   "cell_type": "code",
   "execution_count": 13,
   "metadata": {
    "tags": []
   },
   "outputs": [
    {
     "output_type": "execute_result",
     "data": {
      "text/plain": "True"
     },
     "metadata": {},
     "execution_count": 13
    }
   ],
   "source": [
    "def no_duplicate_letters(phrase):\n",
    "\treturn all([len(set(word)) == len(word) for word in phrase.lower().split()])\n",
    "    \n",
    "no_duplicate_letters(\"Easy does it.\")\n"
   ]
  }
 ]
}