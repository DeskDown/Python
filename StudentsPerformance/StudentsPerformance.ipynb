{
  "nbformat": 4,
  "nbformat_minor": 0,
  "metadata": {
    "colab": {
      "name": "StudentsPerformance.ipynb",
      "provenance": []
    },
    "kernelspec": {
      "name": "python3",
      "display_name": "Python 3"
    }
  },
  "cells": [
    {
      "cell_type": "markdown",
      "metadata": {
        "id": "n3g7eWlShuDa",
        "colab_type": "text"
      },
      "source": [
        "* Are female students performing better than male students in <given subject> (you will take an input of subject and work on the course selected in options) \n",
        "* Are students that have done preparation courses are good in courses or not.\n",
        "* What is the impact of parent education in student performance good, bad, or no impact ( your answer will be based on computational support, not verbal judgment)\n"
      ]
    },
    {
      "cell_type": "code",
      "metadata": {
        "id": "lBHJXGDBgVLv",
        "colab_type": "code",
        "colab": {}
      },
      "source": [
        "# Input Data\n",
        "labels = ('gender', 'parental level of education', 'test preparation course', 'math score', 'reading score', 'writing score')\n",
        "data = [ \n",
        "   ['female', \"bachelor's degree\", 'none', '72', '72', '74'], \n",
        "  ['female', 'some college', 'completed', '69', '90', '88'], \n",
        "  ['female', \"master's degree\", 'none', '90', '95', '93'], \n",
        "  ['male', \"associate's degree\", 'none', '47', '57', '44'], \n",
        "  ['male', 'some college', 'none', '76', '78', '75'], \n",
        "  ['female', \"associate's degree\", 'none', '71', '83', '78'], \n",
        "  ['female', 'some college', 'completed', '88', '95', '92'], \n",
        "  ['male', 'some college', 'none', '40', '43', '39'], \n",
        "  ['male', 'high school', 'completed', '64', '64', '67'], \n",
        "  ['female', 'high school', 'none', '38', '60', '50'], \n",
        "  ['male', \"associate's degree\", 'none', '58', '54', '52'], \n",
        " ['male', \"associate's degree\", 'none', '40', '52', '43'], \n",
        " ['female', 'high school', 'none', '65', '81', '73'], \n",
        " ['male', 'some college', 'completed', '78', '72', '70'], \n",
        " ['female', \"master's degree\", 'none', '50', '53', '58'], \n",
        " ['female', 'some high school', 'none', '69', '75', '78'], \n",
        " ['male', 'high school', 'none', '88', '89', '86'], \n",
        " ['female', 'some high school', 'none', '18', '32', '28'], \n",
        " ['male', \"master's degree\", 'completed', '46', '42', '46'], \n",
        " ['female', \"associate's degree\", 'none', '54', '58', '61'], \n",
        " ['male', 'high school', 'none', '66', '69', '63'], \n",
        " ['female', 'some college', 'completed', '65', '75', '70'], \n",
        " ['male', 'some college', 'none', '44', '54', '53'], \n",
        " ['female', 'some high school', 'none', '69', '73', '73'], \n",
        " ['male', \"bachelor's degree\", 'completed', '74', '71', '80'], \n",
        " ['male', \"master's degree\", 'none', '73', '74', '72'], \n",
        " ['male', 'some college', 'none', '69', '54', '55'], \n",
        " ['female', \"bachelor's degree\", 'none', '67', '69', '75'], \n",
        " ['male', 'high school', 'none', '70', '70', '65'], \n",
        " ['female', \"master's degree\", 'none', '62', '70', '75'], \n",
        " ['female', 'some college', 'none', '69', '74', '74'], \n",
        " ['female', 'some college', 'none', '63', '65', '61'], \n",
        " ['female', \"master's degree\", 'none', '56', '72', '65'], \n",
        " ['male', 's6ome college', 'none', '40', '42', '38'], \n",
        " ['male', 'some college', 'none', '97', '87', '82'], \n",
        " ['male', \"associate's degree\", 'completed', '81', '81', '79'], \n",
        " ['female', \"associate's degree\", 'none', '74', '81', '83'], \n",
        " ['female', 'some high school', 'none', '50', '64', '59'], \n",
        " ['female', \"associate's degree\", 'completed', '75', '90', '88'], \n",
        "]\n"
      ],
      "execution_count": null,
      "outputs": []
    },
    {
      "cell_type": "markdown",
      "metadata": {
        "id": "tgiPBLDAiA69",
        "colab_type": "text"
      },
      "source": [
        "## 1.   Are female students performing better than male students in (you will take an input of subject and work on the course selected in options)\n",
        "\n",
        "\n",
        "\n"
      ]
    },
    {
      "cell_type": "code",
      "metadata": {
        "id": "OK4dEmjoh0yb",
        "colab_type": "code",
        "colab": {
          "base_uri": "https://localhost:8080/",
          "height": 101
        },
        "outputId": "ad69cb0d-9111-4cdc-ba37-44d0bede60b5"
      },
      "source": [
        "def Perc_of_Gender(records,labels, gender, subject):\n",
        "    percentage = 0\n",
        "    count = 0\n",
        "    sum = 0\n",
        "    index_gender = labels.index(\"gender\")\n",
        "    index_subject = labels.index(subject)\n",
        "    for r in [i for i in records if i[index_gender] == gender]:\n",
        "        sum += int(r[index_subject])\n",
        "        count += 1\n",
        "\n",
        "    return round(float(sum / count),2) \n",
        "\n",
        "subject = input(f\"Performace based on the gender in the subject\\n{labels[-3:]}\\n:\")\n",
        "#subject = \"math score\"\n",
        "male_perc = Perc_of_Gender(data,labels,\"male\",subject)\n",
        "female_perc = Perc_of_Gender(data,labels,\"female\",subject)\n",
        "if male_perc > female_perc:\n",
        "    print(f\"Male students have performed better in {subject} than female ones, their % are\\nmale: {male_perc} % female: {female_perc} %\")\n",
        "elif male_perc < female_perc:\n",
        "    print(f\"female students have performed better in {subject} than male ones, their % are\\nmale: {male_perc} % female: {female_perc} %\")\n",
        "else:\n",
        "    print(f\"male and female students have performed equally  in {subject} , their % are\\nmale: {male_perc} % female: {female_perc} %\")\n",
        "\n"
      ],
      "execution_count": null,
      "outputs": [
        {
          "output_type": "stream",
          "text": [
            "Performace based on the gender in the subject\n",
            "('math score', 'reading score', 'writing score')\n",
            ":reading score\n",
            "female students have performed better in reading score than male ones, their % are\n",
            "male: 64.06 % female: 72.71 %\n"
          ],
          "name": "stdout"
        }
      ]
    },
    {
      "cell_type": "markdown",
      "metadata": {
        "id": "wXpcbRK5pr8L",
        "colab_type": "text"
      },
      "source": [
        "\n",
        "# 2.   Are students that have done preparation courses are good in courses or not?\n"
      ]
    },
    {
      "cell_type": "code",
      "metadata": {
        "id": "y6WpJh8_htyh",
        "colab_type": "code",
        "colab": {
          "base_uri": "https://localhost:8080/",
          "height": 34
        },
        "outputId": "fda721bf-ec90-4d70-e0aa-4ccf5596fb23"
      },
      "source": [
        "def per_x_prep(records, labels):\n",
        "    scores = 0\n",
        "    count = 0\n",
        "    index_test_prep = labels.index('test preparation course')\n",
        "    for r in [row for row in records if row[index_test_prep] != \"none\"]:\n",
        "        scores += sum([int(i) for i in r[-3:]])\n",
        "        count += 3\n",
        "    return round(float(scores/count),2)\n",
        "\n",
        "test_prep_perc = per_x_prep(data,labels)\n",
        "if test_prep_perc >= 80:\n",
        "    print(f\"Students who completed test prepration courses are doing good. their % is: {test_prep_perc}\")\n",
        "elif test_prep_perc >= 60:\n",
        "    print(f\"Students who completed test prepration courses are doing \\\"Ok\\\" their % is: {test_prep_perc}\")\n",
        "else:\n",
        "    print(f\"Students who completed test prepration courses are doing \\\"BAD\\\" their % is: {test_prep_perc}\")\n"
      ],
      "execution_count": null,
      "outputs": [
        {
          "output_type": "stream",
          "text": [
            "Students who completed test prepration courses are doing \"Ok\" their % is: 74.07\n"
          ],
          "name": "stdout"
        }
      ]
    },
    {
      "cell_type": "markdown",
      "metadata": {
        "id": "U-W3ANB6wFgn",
        "colab_type": "text"
      },
      "source": [
        "#3.    What is the impact of parent education in student performance good, bad, or no impact.\n",
        "\n"
      ]
    },
    {
      "cell_type": "code",
      "metadata": {
        "id": "-_KxkeX-gcEl",
        "colab_type": "code",
        "colab": {}
      },
      "source": [
        ""
      ],
      "execution_count": null,
      "outputs": []
    },
    {
      "cell_type": "code",
      "metadata": {
        "id": "SkYOhlxTnuST",
        "colab_type": "code",
        "colab": {
          "base_uri": "https://localhost:8080/",
          "height": 34
        },
        "outputId": "9747ba87-1f93-4929-d975-a8bb009d3593"
      },
      "source": [
        "def per_edu_effect(records, labels):\n",
        "    perc = [0,0]\n",
        "    scores = [0,0]\n",
        "    count = [0,0]\n",
        "    index_parent_ed = labels.index('parental level of education')\n",
        "    for r in records:\n",
        "        if r[index_parent_ed] == \"master's degree\":\n",
        "            #Index 0 for records of child with parents having a master's degree\n",
        "            scores[0] += sum([int(i) for i in r[-3:]])\n",
        "            count[0] += 3\n",
        "        else:\n",
        "            #Index 01 for records of child with parents without a master's degree\n",
        "            scores[1] += sum([int(i) for i in r[-3:]])\n",
        "            count[1] += 3\n",
        "    for i in range(len(perc)):\n",
        "        perc[i] = round(float(scores[i]/count[i]),2)\n",
        "    return perc\n",
        "\n",
        "P_Masters, P_Without_Masters = per_edu_effect(data, labels)\n",
        "delta = P_Masters - P_Without_Masters\n",
        "\n",
        "if delta > 5:\n",
        "    print(\"Master degree has good impact\")\n",
        "elif delta < -5:\n",
        "    print(\"Master's degree of a parent has bad impact\")\n",
        "else:\n",
        "    print(\"Master's degree is irrelevant\")"
      ],
      "execution_count": null,
      "outputs": [
        {
          "output_type": "stream",
          "text": [
            "Master's degree is irrelevant\n"
          ],
          "name": "stdout"
        }
      ]
    },
    {
      "cell_type": "code",
      "metadata": {
        "id": "Vpwb9JuDzqa7",
        "colab_type": "code",
        "colab": {}
      },
      "source": [
        ""
      ],
      "execution_count": null,
      "outputs": []
    }
  ]
}