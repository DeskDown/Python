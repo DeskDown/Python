{
 "metadata": {
  "language_info": {
   "codemirror_mode": {
    "name": "ipython",
    "version": 3
   },
   "file_extension": ".py",
   "mimetype": "text/x-python",
   "name": "python",
   "nbconvert_exporter": "python",
   "pygments_lexer": "ipython3",
   "version": 3
  },
  "orig_nbformat": 2,
  "kernelspec": {
   "name": "python_defaultSpec_1596787440463",
   "display_name": "Python 3.8.3 32-bit"
  }
 },
 "nbformat": 4,
 "nbformat_minor": 2,
 "cells": [
  {
   "cell_type": "markdown",
   "metadata": {},
   "source": [
    "[link to the Article.](https://towardsdatascience.com/10-algorithms-to-solve-before-your-python-coding-interview-feb74fb9bc27)"
   ]
  },
  {
   "cell_type": "markdown",
   "metadata": {},
   "source": [
    "1. Given an integer, return the integer with reversed digits.<br>\n",
    "Note: The integer could be either positive or negative."
   ]
  },
  {
   "cell_type": "code",
   "execution_count": 4,
   "metadata": {
    "tags": []
   },
   "outputs": [
    {
     "output_type": "stream",
     "name": "stdout",
     "text": "54\n-5421\n545\n"
    }
   ],
   "source": [
    "def rev_int(num):\n",
    "    ISNEGATIVE = True if num < 0 else False\n",
    "    s_num = str(abs(num))\n",
    "    num = int(s_num[::-1])\n",
    "    return -num if ISNEGATIVE else num\n",
    "\n",
    "print(rev_int(45))\n",
    "print(rev_int(-1245))\n",
    "print(rev_int(545))\n"
   ]
  },
  {
   "cell_type": "markdown",
   "metadata": {},
   "source": [
    "2. For a given sentence, return the average word length.  \n",
    "Note: Remember to remove punctuation first."
   ]
  },
  {
   "cell_type": "code",
   "execution_count": 18,
   "metadata": {
    "tags": []
   },
   "outputs": [
    {
     "output_type": "execute_result",
     "data": {
      "text/plain": "4.08"
     },
     "metadata": {},
     "execution_count": 18
    }
   ],
   "source": [
    "def avg_word_len(sent):\n",
    "    import string\n",
    "    clean_sent = sent.translate(str.maketrans(\"\",\"\",string.punctuation))\n",
    "    return round(len(clean_sent.replace(\" \",\"\")) / (clean_sent.count(\" \") + 1), 2)\n",
    "\n",
    "\n",
    "\n",
    "sentence1 = \"Hi all, my name is Tom... I am originally from Australia.\"\n",
    "sentence2 = \"I need to work very hard to learn more about algorithms in Python!\"\n",
    "avg_word_len(sentence1)\n",
    "avg_word_len(sentence2)\n"
   ]
  },
  {
   "cell_type": "markdown",
   "metadata": {},
   "source": [
    "3. Given two non-negative integers num1 and num2 represented as string, return the sum of num1 and num2.  \n",
    "You must not use any built-in BigInteger library or convert the inputs to integer directly.  \n",
    "notes:  \n",
    "both num1 and num2 contains only digits 0-9.  \n",
    "both num1 and num2 does not contain any leading zero.  \n",
    "\n"
   ]
  },
  {
   "cell_type": "code",
   "execution_count": 27,
   "metadata": {
    "tags": []
   },
   "outputs": [
    {
     "output_type": "stream",
     "name": "stdout",
     "text": "2200\n"
    }
   ],
   "source": [
    "num1 = '364'\n",
    "num2 = '1836'\n",
    "\n",
    "def add_num(s1,s2):\n",
    "    return str(eval(s1 + \"+\" + s2))\n",
    "\n",
    "print(add_num(num1, num2))"
   ]
  },
  {
   "cell_type": "markdown",
   "metadata": {},
   "source": [
    "4. Given a string, find the first non-repeating character in it and return its index.  \n",
    "If it doesn't exist, return -1.<br>Note: all the input strings are already lowercase.\n",
    "    ```\n",
    "    print(solution('alphabet'))\n",
    "    print(solution('barbados'))\n",
    "    print(solution('crunchy'))\n",
    "    #Output:\n",
    "    1\n",
    "    2\n",
    "    1\n",
    "    str = \"This is a block level code\"\n",
    "    print(str)\n",
    "    ```\n",
    "    "
   ]
  },
  {
   "cell_type": "code",
   "execution_count": 35,
   "metadata": {
    "tags": []
   },
   "outputs": [
    {
     "output_type": "stream",
     "name": "stdout",
     "text": "1\n2\n1\n"
    }
   ],
   "source": [
    "def solution(s):\n",
    "    for i in s:\n",
    "        if s.count(i) == 1:\n",
    "            return s.index(i)\n",
    "    \n",
    "    return -1\n",
    "    \n",
    "\n",
    "print(solution('alphabet'))\n",
    "print(solution('barbados'))\n",
    "print(solution('crunchy'))\n"
   ]
  },
  {
   "cell_type": "markdown",
   "metadata": {},
   "source": [
    "5. Given a non-empty string s, you may delete at most one character. Judge whether you can make it a palindrome.<br>The string will only contain lowercase characters a-z."
   ]
  },
  {
   "cell_type": "code",
   "execution_count": 44,
   "metadata": {
    "tags": []
   },
   "outputs": [
    {
     "output_type": "stream",
     "name": "stdout",
     "text": "True\n"
    }
   ],
   "source": [
    "def solution(s: str):\n",
    "    if s == s[::-1]: return True\n",
    "    for i in range(len(s)):\n",
    "        sub_s = s[:i] + s[i+1:]\n",
    "        if sub_s == sub_s[::-1]:\n",
    "            return True\n",
    "    return False\n",
    "\n",
    "\n",
    "s = 'radkar'\n",
    "print(solution(s))"
   ]
  },
  {
   "cell_type": "markdown",
   "metadata": {},
   "source": [
    "6. Given an array of integers, determine whether the array is monotonic or not."
   ]
  },
  {
   "cell_type": "code",
   "execution_count": 55,
   "metadata": {
    "tags": []
   },
   "outputs": [
    {
     "output_type": "stream",
     "name": "stdout",
     "text": "True\nFalse\nTrue\n"
    }
   ],
   "source": [
    "def isMonotonic(ls):\n",
    "    \"\"\"\n",
    "        comp = \"<=\" if ls[0] <= ls[1] else \">=\"\n",
    "        for i in range(1, len(ls)):\n",
    "            if eval(str(ls[i-1]) + comp + str(ls[i])) == False:\n",
    "                return False\n",
    "        \n",
    "        return True\n",
    "    \"\"\"\n",
    "    last_res = 0\n",
    "    for i in range(len(ls)-1):\n",
    "        res = ls[i] - ls[i+1]\n",
    "        if res*last_res < 0:\n",
    "            return False\n",
    "        last_res = res\n",
    "    return True\n",
    "\n",
    "\n",
    "A = [6, 5, 4, 4] \n",
    "B = [1,1,1,3,3,4,3,2,4,2]\n",
    "C = [1,1,2,3,7]\n",
    "print(isMonotonic(A))\n",
    "print(isMonotonic(B))\n",
    "print(isMonotonic(C))\n"
   ]
  },
  {
   "cell_type": "markdown",
   "metadata": {},
   "source": [
    "7. Given an array nums, write a function to move all zeroes to the end of it while maintaining the relative order of  \n",
    "the non-zero elements."
   ]
  },
  {
   "cell_type": "code",
   "execution_count": 58,
   "metadata": {
    "tags": []
   },
   "outputs": [
    {
     "output_type": "stream",
     "name": "stdout",
     "text": "[2, 4, 5, 9, 6, 8, 0, 0]\n"
    }
   ],
   "source": [
    "def append_zeros(ls):\n",
    "    zeros = ls.count(0)\n",
    "    n_ls = [n for n in ls if n != 0]\n",
    "    return n_ls + [0]*zeros\n",
    "\n",
    "print(append_zeros([2,4,5,0,9,6,0,8]))"
   ]
  },
  {
   "cell_type": "markdown",
   "metadata": {},
   "source": [
    "9. Given an array containing None values fill in the None values with most recent  \n",
    "non None value in the array "
   ]
  },
  {
   "cell_type": "code",
   "execution_count": 67,
   "metadata": {
    "tags": []
   },
   "outputs": [
    {
     "output_type": "stream",
     "name": "stdout",
     "text": "[1, 5, 5, 6, 5]\n[1, 1, 2, 3, 3, 3, 5, 5]\n"
    }
   ],
   "source": [
    "def fill_Nones(ls):\n",
    "    if None not in ls:\n",
    "        return ls\n",
    "\n",
    "    return fill_Nones([ls[i] if ls[i] != None else ls[i-1] for i in range(len(ls))])\n",
    "    \n",
    "\n",
    "ls1 = [1,5,None,6,5]\n",
    "ls2 = [1,None,2,3,None,None,5,None]\n",
    "print(fill_Nones(ls1))\n",
    "print(fill_Nones(ls2))"
   ]
  },
  {
   "cell_type": "markdown",
   "metadata": {},
   "source": [
    "9. Given two sentences, return an array that has the words that appear in one sentence<br>and not\n",
    "the other and an array with the words in common. "
   ]
  },
  {
   "cell_type": "code",
   "execution_count": 69,
   "metadata": {
    "tags": []
   },
   "outputs": [
    {
     "output_type": "stream",
     "name": "stdout",
     "text": "[['We', 'are', 'pleased', 'to', 'meet', 'you', 'in', 'our', 'The', 'was', 'hit', 'by', 'a', 'heavy', 'storm'], ['really', 'city']]\n"
    }
   ],
   "source": [
    "sentence1 = 'We are really pleased to meet you in our city'\n",
    "sentence2 = 'The city was hit by a really heavy storm'\n",
    "\n",
    "def solution(s1,s2):\n",
    "    words1 = s1.split()\n",
    "    words2 = s2.split()\n",
    "    match = [w for w in words1 if w in words2]\n",
    "    unique = [w for w in words1 + words2 if w not in match]\n",
    "    return [unique,match]\n",
    "\n",
    "\n",
    "print(solution(sentence1, sentence2))"
   ]
  },
  {
   "cell_type": "markdown",
   "metadata": {},
   "source": [
    "10. Given k numbers which are less than n, return the set of prime number among them\n",
    "<br>Note: The task is to write a program to print all Prime numbers in an Interval.\n",
    "<br>Definition: A prime number is a natural number greater than 1 that has no positive divisors other than 1 and itself. \n"
   ]
  },
  {
   "cell_type": "code",
   "execution_count": 71,
   "metadata": {
    "tags": []
   },
   "outputs": [
    {
     "output_type": "stream",
     "name": "stdout",
     "text": "[2, 3, 4, 5, 7, 11, 13, 17, 19, 23, 29, 31]\n"
    }
   ],
   "source": [
    "n = 34\n",
    "\n",
    "def primes(n):\n",
    "    def isprime(k):\n",
    "        for n in range(2,k//2):\n",
    "            if k % n == 0:\n",
    "                return False\n",
    "        return True\n",
    "    return [i for i in range(2,n) if isprime(i)]\n",
    "\n",
    "print(primes(n))"
   ]
  }
 ]
}